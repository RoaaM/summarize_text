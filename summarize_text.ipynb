{
  "nbformat": 4,
  "nbformat_minor": 0,
  "metadata": {
    "colab": {
      "provenance": [],
      "include_colab_link": true
    },
    "kernelspec": {
      "name": "python3",
      "display_name": "Python 3"
    },
    "language_info": {
      "name": "python"
    },
    "accelerator": "GPU",
    "gpuClass": "standard"
  },
  "cells": [
    {
      "cell_type": "markdown",
      "metadata": {
        "id": "view-in-github",
        "colab_type": "text"
      },
      "source": [
        "<a href=\"https://colab.research.google.com/github/RoaaM/summarize_text/blob/main/summarize_text.ipynb\" target=\"_parent\"><img src=\"https://colab.research.google.com/assets/colab-badge.svg\" alt=\"Open In Colab\"/></a>"
      ]
    },
    {
      "cell_type": "markdown",
      "source": [
        "# requremnets\n"
      ],
      "metadata": {
        "id": "dHvepVroTvWh"
      }
    },
    {
      "cell_type": "code",
      "source": [
        "!pip install rouge"
      ],
      "metadata": {
        "colab": {
          "base_uri": "https://localhost:8080/"
        },
        "id": "UOyHXM33HZrR",
        "outputId": "a6cb2e06-55ef-4ea5-fa14-b04ba99b3eb1"
      },
      "execution_count": null,
      "outputs": [
        {
          "output_type": "stream",
          "name": "stdout",
          "text": [
            "Looking in indexes: https://pypi.org/simple, https://us-python.pkg.dev/colab-wheels/public/simple/\n",
            "Collecting rouge\n",
            "  Downloading rouge-1.0.1-py3-none-any.whl (13 kB)\n",
            "Requirement already satisfied: six in /usr/local/lib/python3.9/dist-packages (from rouge) (1.16.0)\n",
            "Installing collected packages: rouge\n",
            "Successfully installed rouge-1.0.1\n"
          ]
        }
      ]
    },
    {
      "cell_type": "code",
      "source": [
        "import pandas as pd\n",
        "import networkx as nx\n",
        "from rouge import Rouge\n",
        "import re\n",
        "from collections import Counter\n",
        "from math import sqrt"
      ],
      "metadata": {
        "id": "dsIM52vgUVGY"
      },
      "execution_count": null,
      "outputs": []
    },
    {
      "cell_type": "markdown",
      "source": [
        "# uplaod data"
      ],
      "metadata": {
        "id": "MjSK5FbvTzIf"
      }
    },
    {
      "cell_type": "code",
      "execution_count": null,
      "metadata": {
        "colab": {
          "base_uri": "https://localhost:8080/",
          "height": 206
        },
        "id": "Q_NNEISx0LIT",
        "outputId": "7c34e982-eb77-4d5c-8cb3-a3f3947182a3"
      },
      "outputs": [
        {
          "output_type": "execute_result",
          "data": {
            "text/plain": [
              "                                                Text  \\\n",
              "0  Ad sales boost Time Warner profit\\n\\nQuarterly...   \n",
              "1  Dollar gains on Greenspan speech\\n\\nThe dollar...   \n",
              "2  Yukos unit buyer faces loan claim\\n\\nThe owner...   \n",
              "3  High fuel prices hit BA's profits\\n\\nBritish A...   \n",
              "4  Pernod takeover talk lifts Domecq\\n\\nShares in...   \n",
              "\n",
              "                                             Summary  \n",
              "0  TimeWarner said fourth quarter sales rose 2% t...  \n",
              "1  The dollar has hit its highest level against t...  \n",
              "2  Yukos' owner Menatep Group says it will ask Ro...  \n",
              "3  Rod Eddington, BA's chief executive, said the ...  \n",
              "4  Pernod has reduced the debt it took on to fund...  "
            ],
            "text/html": [
              "\n",
              "  <div id=\"df-0c20f279-ac22-4330-ac51-685f4cfe55d9\">\n",
              "    <div class=\"colab-df-container\">\n",
              "      <div>\n",
              "<style scoped>\n",
              "    .dataframe tbody tr th:only-of-type {\n",
              "        vertical-align: middle;\n",
              "    }\n",
              "\n",
              "    .dataframe tbody tr th {\n",
              "        vertical-align: top;\n",
              "    }\n",
              "\n",
              "    .dataframe thead th {\n",
              "        text-align: right;\n",
              "    }\n",
              "</style>\n",
              "<table border=\"1\" class=\"dataframe\">\n",
              "  <thead>\n",
              "    <tr style=\"text-align: right;\">\n",
              "      <th></th>\n",
              "      <th>Text</th>\n",
              "      <th>Summary</th>\n",
              "    </tr>\n",
              "  </thead>\n",
              "  <tbody>\n",
              "    <tr>\n",
              "      <th>0</th>\n",
              "      <td>Ad sales boost Time Warner profit\\n\\nQuarterly...</td>\n",
              "      <td>TimeWarner said fourth quarter sales rose 2% t...</td>\n",
              "    </tr>\n",
              "    <tr>\n",
              "      <th>1</th>\n",
              "      <td>Dollar gains on Greenspan speech\\n\\nThe dollar...</td>\n",
              "      <td>The dollar has hit its highest level against t...</td>\n",
              "    </tr>\n",
              "    <tr>\n",
              "      <th>2</th>\n",
              "      <td>Yukos unit buyer faces loan claim\\n\\nThe owner...</td>\n",
              "      <td>Yukos' owner Menatep Group says it will ask Ro...</td>\n",
              "    </tr>\n",
              "    <tr>\n",
              "      <th>3</th>\n",
              "      <td>High fuel prices hit BA's profits\\n\\nBritish A...</td>\n",
              "      <td>Rod Eddington, BA's chief executive, said the ...</td>\n",
              "    </tr>\n",
              "    <tr>\n",
              "      <th>4</th>\n",
              "      <td>Pernod takeover talk lifts Domecq\\n\\nShares in...</td>\n",
              "      <td>Pernod has reduced the debt it took on to fund...</td>\n",
              "    </tr>\n",
              "  </tbody>\n",
              "</table>\n",
              "</div>\n",
              "      <button class=\"colab-df-convert\" onclick=\"convertToInteractive('df-0c20f279-ac22-4330-ac51-685f4cfe55d9')\"\n",
              "              title=\"Convert this dataframe to an interactive table.\"\n",
              "              style=\"display:none;\">\n",
              "        \n",
              "  <svg xmlns=\"http://www.w3.org/2000/svg\" height=\"24px\"viewBox=\"0 0 24 24\"\n",
              "       width=\"24px\">\n",
              "    <path d=\"M0 0h24v24H0V0z\" fill=\"none\"/>\n",
              "    <path d=\"M18.56 5.44l.94 2.06.94-2.06 2.06-.94-2.06-.94-.94-2.06-.94 2.06-2.06.94zm-11 1L8.5 8.5l.94-2.06 2.06-.94-2.06-.94L8.5 2.5l-.94 2.06-2.06.94zm10 10l.94 2.06.94-2.06 2.06-.94-2.06-.94-.94-2.06-.94 2.06-2.06.94z\"/><path d=\"M17.41 7.96l-1.37-1.37c-.4-.4-.92-.59-1.43-.59-.52 0-1.04.2-1.43.59L10.3 9.45l-7.72 7.72c-.78.78-.78 2.05 0 2.83L4 21.41c.39.39.9.59 1.41.59.51 0 1.02-.2 1.41-.59l7.78-7.78 2.81-2.81c.8-.78.8-2.07 0-2.86zM5.41 20L4 18.59l7.72-7.72 1.47 1.35L5.41 20z\"/>\n",
              "  </svg>\n",
              "      </button>\n",
              "      \n",
              "  <style>\n",
              "    .colab-df-container {\n",
              "      display:flex;\n",
              "      flex-wrap:wrap;\n",
              "      gap: 12px;\n",
              "    }\n",
              "\n",
              "    .colab-df-convert {\n",
              "      background-color: #E8F0FE;\n",
              "      border: none;\n",
              "      border-radius: 50%;\n",
              "      cursor: pointer;\n",
              "      display: none;\n",
              "      fill: #1967D2;\n",
              "      height: 32px;\n",
              "      padding: 0 0 0 0;\n",
              "      width: 32px;\n",
              "    }\n",
              "\n",
              "    .colab-df-convert:hover {\n",
              "      background-color: #E2EBFA;\n",
              "      box-shadow: 0px 1px 2px rgba(60, 64, 67, 0.3), 0px 1px 3px 1px rgba(60, 64, 67, 0.15);\n",
              "      fill: #174EA6;\n",
              "    }\n",
              "\n",
              "    [theme=dark] .colab-df-convert {\n",
              "      background-color: #3B4455;\n",
              "      fill: #D2E3FC;\n",
              "    }\n",
              "\n",
              "    [theme=dark] .colab-df-convert:hover {\n",
              "      background-color: #434B5C;\n",
              "      box-shadow: 0px 1px 3px 1px rgba(0, 0, 0, 0.15);\n",
              "      filter: drop-shadow(0px 1px 2px rgba(0, 0, 0, 0.3));\n",
              "      fill: #FFFFFF;\n",
              "    }\n",
              "  </style>\n",
              "\n",
              "      <script>\n",
              "        const buttonEl =\n",
              "          document.querySelector('#df-0c20f279-ac22-4330-ac51-685f4cfe55d9 button.colab-df-convert');\n",
              "        buttonEl.style.display =\n",
              "          google.colab.kernel.accessAllowed ? 'block' : 'none';\n",
              "\n",
              "        async function convertToInteractive(key) {\n",
              "          const element = document.querySelector('#df-0c20f279-ac22-4330-ac51-685f4cfe55d9');\n",
              "          const dataTable =\n",
              "            await google.colab.kernel.invokeFunction('convertToInteractive',\n",
              "                                                     [key], {});\n",
              "          if (!dataTable) return;\n",
              "\n",
              "          const docLinkHtml = 'Like what you see? Visit the ' +\n",
              "            '<a target=\"_blank\" href=https://colab.research.google.com/notebooks/data_table.ipynb>data table notebook</a>'\n",
              "            + ' to learn more about interactive tables.';\n",
              "          element.innerHTML = '';\n",
              "          dataTable['output_type'] = 'display_data';\n",
              "          await google.colab.output.renderOutput(dataTable, element);\n",
              "          const docLink = document.createElement('div');\n",
              "          docLink.innerHTML = docLinkHtml;\n",
              "          element.appendChild(docLink);\n",
              "        }\n",
              "      </script>\n",
              "    </div>\n",
              "  </div>\n",
              "  "
            ]
          },
          "metadata": {},
          "execution_count": 3
        }
      ],
      "source": [
        "# set the path to the CSV file\n",
        "csv_path = \"Dataset.csv\"\n",
        "\n",
        "# read the data from the CSV file\n",
        "df = pd.read_csv(csv_path)\n",
        "\n",
        "df.head()"
      ]
    },
    {
      "cell_type": "code",
      "source": [
        "df.shape"
      ],
      "metadata": {
        "colab": {
          "base_uri": "https://localhost:8080/"
        },
        "id": "fGatB351U9-C",
        "outputId": "a75eba24-a58f-46bf-e3e8-687cb76dac02"
      },
      "execution_count": null,
      "outputs": [
        {
          "output_type": "execute_result",
          "data": {
            "text/plain": [
              "(2225, 2)"
            ]
          },
          "metadata": {},
          "execution_count": 4
        }
      ]
    },
    {
      "cell_type": "markdown",
      "source": [
        "# exploar samples"
      ],
      "metadata": {
        "id": "lqByrqOsT49s"
      }
    },
    {
      "cell_type": "code",
      "source": [
        "df['Text'][0]"
      ],
      "metadata": {
        "colab": {
          "base_uri": "https://localhost:8080/",
          "height": 140
        },
        "id": "A25cnHCHVAuC",
        "outputId": "5e38c4f5-fc4c-400d-c807-cc64d92f12f3"
      },
      "execution_count": null,
      "outputs": [
        {
          "output_type": "execute_result",
          "data": {
            "text/plain": [
              "'Ad sales boost Time Warner profit\\n\\nQuarterly profits at US media giant TimeWarner jumped 76% to $1.13bn (Â£600m) for the three months to December, from $639m year-earlier.\\n\\nThe firm, which is now one of the biggest investors in Google, benefited from sales of high-speed internet connections and higher advert sales. TimeWarner said fourth quarter sales rose 2% to $11.1bn from $10.9bn. Its profits were buoyed by one-off gains which offset a profit dip at Warner Bros, and less users for AOL.\\n\\nTime Warner said on Friday that it now owns 8% of search-engine Google. But its own internet business, AOL, had has mixed fortunes. It lost 464,000 subscribers in the fourth quarter profits were lower than in the preceding three quarters. However, the company said AOL\\'s underlying profit before exceptional items rose 8% on the back of stronger internet advertising revenues. It hopes to increase subscribers by offering the online service free to TimeWarner internet customers and will try to sign up AOL\\'s existing customers for high-speed broadband. TimeWarner also has to restate 2000 and 2003 results following a probe by the US Securities Exchange Commission (SEC), which is close to concluding.\\n\\nTime Warner\\'s fourth quarter profits were slightly better than analysts\\' expectations. But its film division saw profits slump 27% to $284m, helped by box-office flops Alexander and Catwoman, a sharp contrast to year-earlier, when the third and final film in the Lord of the Rings trilogy boosted results. For the full-year, TimeWarner posted a profit of $3.36bn, up 27% from its 2003 performance, while revenues grew 6.4% to $42.09bn. \"Our financial performance was strong, meeting or exceeding all of our full-year objectives and greatly enhancing our flexibility,\" chairman and chief executive Richard Parsons said. For 2005, TimeWarner is projecting operating earnings growth of around 5%, and also expects higher revenue and wider profit margins.\\n\\nTimeWarner is to restate its accounts as part of efforts to resolve an inquiry into AOL by US market regulators. It has already offered to pay $300m to settle charges, in a deal that is under review by the SEC. The company said it was unable to estimate the amount it needed to set aside for legal reserves, which it previously set at $500m. It intends to adjust the way it accounts for a deal with German music publisher Bertelsmann\\'s purchase of a stake in AOL Europe, which it had reported as advertising revenue. It will now book the sale of its stake in AOL Europe as a loss on the value of that stake.\\n'"
            ],
            "application/vnd.google.colaboratory.intrinsic+json": {
              "type": "string"
            }
          },
          "metadata": {},
          "execution_count": 5
        }
      ]
    },
    {
      "cell_type": "code",
      "source": [
        "len(df['Text'][0])"
      ],
      "metadata": {
        "colab": {
          "base_uri": "https://localhost:8080/"
        },
        "id": "_rmocaMuVGI6",
        "outputId": "98292f9e-fabe-4819-e365-1e651cc7e2bc"
      },
      "execution_count": null,
      "outputs": [
        {
          "output_type": "execute_result",
          "data": {
            "text/plain": [
              "2560"
            ]
          },
          "metadata": {},
          "execution_count": 6
        }
      ]
    },
    {
      "cell_type": "code",
      "source": [
        "df['Summary'][0]"
      ],
      "metadata": {
        "colab": {
          "base_uri": "https://localhost:8080/",
          "height": 122
        },
        "id": "YtRUqEGgVLfK",
        "outputId": "91dd11aa-fed9-4ec3-97f8-952d2f92b0ed"
      },
      "execution_count": null,
      "outputs": [
        {
          "output_type": "execute_result",
          "data": {
            "text/plain": [
              "\"TimeWarner said fourth quarter sales rose 2% to $11.1bn from $10.9bn.For the full-year, TimeWarner posted a profit of $3.36bn, up 27% from its 2003 performance, while revenues grew 6.4% to $42.09bn.Quarterly profits at US media giant TimeWarner jumped 76% to $1.13bn (Â£600m) for the three months to December, from $639m year-earlier.However, the company said AOL's underlying profit before exceptional items rose 8% on the back of stronger internet advertising revenues.Its profits were buoyed by one-off gains which offset a profit dip at Warner Bros, and less users for AOL.For 2005, TimeWarner is projecting operating earnings growth of around 5%, and also expects higher revenue and wider profit margins.It lost 464,000 subscribers in the fourth quarter profits were lower than in the preceding three quarters.Time Warner's fourth quarter profits were slightly better than analysts' expectations.\""
            ],
            "application/vnd.google.colaboratory.intrinsic+json": {
              "type": "string"
            }
          },
          "metadata": {},
          "execution_count": 7
        }
      ]
    },
    {
      "cell_type": "code",
      "source": [
        "len(df['Summary'][0])"
      ],
      "metadata": {
        "colab": {
          "base_uri": "https://localhost:8080/"
        },
        "id": "j7XmqhyJVRZM",
        "outputId": "b2fc99c9-7889-4199-aaf3-932fdf48e719"
      },
      "execution_count": null,
      "outputs": [
        {
          "output_type": "execute_result",
          "data": {
            "text/plain": [
              "901"
            ]
          },
          "metadata": {},
          "execution_count": 8
        }
      ]
    },
    {
      "cell_type": "markdown",
      "source": [
        "# create similarity matching function"
      ],
      "metadata": {
        "id": "lqGGTyD_UBeG"
      }
    },
    {
      "cell_type": "code",
      "source": [
        "def calculate_similarity(sentence1, sentence2):\n",
        "    # Pre-processing: convert to lowercase, remove punctuation and stop words\n",
        "    sentence1 = re.sub(r'[^\\w\\s]', '', sentence1.lower())\n",
        "    sentence2 = re.sub(r'[^\\w\\s]', '', sentence2.lower())\n",
        "    stop_words = {'a', 'an', 'the', 'of', 'to', 'in', 'for', 'on', 'that', 'this', 'it', 'with', 'and', 'or', 'as', 'at', 'by'}\n",
        "    words1 = [word for word in sentence1.split() if word not in stop_words]\n",
        "    words2 = [word for word in sentence2.split() if word not in stop_words]\n",
        "\n",
        "    # Calculate the cosine similarity between the two sentences\n",
        "    word_count1 = Counter(words1)\n",
        "    word_count2 = Counter(words2)\n",
        "    common_words = set(words1).intersection(set(words2))\n",
        "    dot_product = sum([word_count1[word] * word_count2[word] for word in common_words])\n",
        "    magnitude1 = sqrt(sum([count ** 2 for count in word_count1.values()]))\n",
        "    magnitude2 = sqrt(sum([count ** 2 for count in word_count2.values()]))\n",
        "    similarity = dot_product / (magnitude1 * magnitude2) if magnitude1 > 0 and magnitude2 > 0 else 0.0\n",
        "\n",
        "    return similarity"
      ],
      "metadata": {
        "id": "zE9nK1ULUoaX"
      },
      "execution_count": null,
      "outputs": []
    },
    {
      "cell_type": "markdown",
      "source": [
        "# if we want to explar summary as graph we can use this"
      ],
      "metadata": {
        "id": "J1t3ldT7UJSs"
      }
    },
    {
      "cell_type": "code",
      "source": [
        "import networkx as nx\n",
        "import matplotlib.pyplot as plt\n",
        "\n",
        "# define a function to create the hypergraph from a text\n",
        "def create_hypergraph(text):\n",
        "    # split the text into sentences\n",
        "    sentences = text.split(\". \")\n",
        "\n",
        "    # create a graph to represent the text\n",
        "    graph = nx.Graph()\n",
        "\n",
        "    # add nodes to the graph for each sentence in the text\n",
        "    for sentence in sentences:\n",
        "        graph.add_node(sentence)\n",
        "\n",
        "    # add hyperedges to the graph to connect related nodes\n",
        "    for sentence1 in sentences:\n",
        "        for sentence2 in sentences:\n",
        "            # calculate the similarity between the two sentences\n",
        "            similarity = calculate_similarity(sentence1, sentence2)\n",
        "\n",
        "            # if the similarity is above a certain threshold, add a hyperedge between the two nodes\n",
        "            if similarity > 0.5:\n",
        "                graph.add_edge(sentence1, sentence2)\n",
        "\n",
        "    return graph\n"
      ],
      "metadata": {
        "id": "lBED-PbfUduz"
      },
      "execution_count": null,
      "outputs": []
    },
    {
      "cell_type": "markdown",
      "source": [
        "# generate summary"
      ],
      "metadata": {
        "id": "Lxux9mk_URMd"
      }
    },
    {
      "cell_type": "code",
      "source": [
        "# define a function to generate a summary from a hypergraph\n",
        "def generate_summary(graph):\n",
        "    # apply a graph-based summarization algorithm to generate a summary\n",
        "    # here, we use the PageRank algorithm to rank the sentences based on their importance in the graph\n",
        "    scores = nx.pagerank(graph)\n",
        "\n",
        "    # sort the sentences by their scores in descending order\n",
        "    ranked_sentences = sorted(scores.items(), key=lambda x: x[1], reverse=True)\n",
        "\n",
        "    # select the top 3 sentences as the summary\n",
        "    summary_sentences = [sentence[0] for sentence in ranked_sentences[:3]]\n",
        "\n",
        "    # convert the summary back into text format\n",
        "    summary = \". \".join(summary_sentences) + \".\"\n",
        "\n",
        "    return summary"
      ],
      "metadata": {
        "id": "AzoUSiTLUkc7"
      },
      "execution_count": null,
      "outputs": []
    },
    {
      "cell_type": "code",
      "source": [
        "calculate_similarity(df['Text'][0], df['Summary'][0])"
      ],
      "metadata": {
        "colab": {
          "base_uri": "https://localhost:8080/"
        },
        "id": "wJYmp9SKVrIy",
        "outputId": "ed015503-0701-4a0c-a69a-a2b273b01d74"
      },
      "execution_count": null,
      "outputs": [
        {
          "output_type": "execute_result",
          "data": {
            "text/plain": [
              "0.6884660574217999"
            ]
          },
          "metadata": {},
          "execution_count": 13
        }
      ]
    },
    {
      "cell_type": "code",
      "source": [
        "summary = generate_summary(graph)\n",
        "summary"
      ],
      "metadata": {
        "colab": {
          "base_uri": "https://localhost:8080/",
          "height": 88
        },
        "id": "vI-VIcbKXHW3",
        "outputId": "30f2f94e-9021-4317-cd53-8ba7d65f310a"
      },
      "execution_count": null,
      "outputs": [
        {
          "output_type": "execute_result",
          "data": {
            "text/plain": [
              "'Ad sales boost Time Warner profit\\n\\nQuarterly profits at US media giant TimeWarner jumped 76% to $1.13bn (Â£600m) for the three months to December, from $639m year-earlier.\\n\\nThe firm, which is now one of the biggest investors in Google, benefited from sales of high-speed internet connections and higher advert sales. TimeWarner said fourth quarter sales rose 2% to $11.1bn from $10.9bn. Its profits were buoyed by one-off gains which offset a profit dip at Warner Bros, and less users for AOL.\\n\\nTime Warner said on Friday that it now owns 8% of search-engine Google.'"
            ],
            "application/vnd.google.colaboratory.intrinsic+json": {
              "type": "string"
            }
          },
          "metadata": {},
          "execution_count": 20
        }
      ]
    },
    {
      "cell_type": "code",
      "source": [
        "len(summary)"
      ],
      "metadata": {
        "colab": {
          "base_uri": "https://localhost:8080/"
        },
        "id": "DtL5aBSrXNZq",
        "outputId": "521cec8b-b88f-4a8c-bfa9-2dc499ff5b40"
      },
      "execution_count": null,
      "outputs": [
        {
          "output_type": "execute_result",
          "data": {
            "text/plain": [
              "566"
            ]
          },
          "metadata": {},
          "execution_count": 21
        }
      ]
    },
    {
      "cell_type": "code",
      "source": [
        "calculate_similarity(summary , df['Summary'][0])"
      ],
      "metadata": {
        "colab": {
          "base_uri": "https://localhost:8080/"
        },
        "id": "Gd-Yq4CqYobo",
        "outputId": "734863a7-5031-47e4-f8e2-a1050f5d5d95"
      },
      "execution_count": null,
      "outputs": [
        {
          "output_type": "execute_result",
          "data": {
            "text/plain": [
              "0.5956398291872697"
            ]
          },
          "metadata": {},
          "execution_count": 22
        }
      ]
    },
    {
      "cell_type": "code",
      "source": [
        "# apply the hypergraph-based summarization to each row in the DataFrame and store the results in a new column\n",
        "# df[\"Model Summary\"] = df[\"Text\"].apply(lambda text: generate_summary(create_hypergraph(text)))"
      ],
      "metadata": {
        "id": "iW5yWAnMUsLh"
      },
      "execution_count": null,
      "outputs": []
    },
    {
      "cell_type": "code",
      "source": [
        "# # create a new DataFrame with only the summary and model summary columns\n",
        "# output_df = pd.DataFrame({\n",
        "# \"Summary\": df[\"Summary\"],\n",
        "# \"Model Summary\": df[\"Model Summary\"]\n",
        "# })"
      ],
      "metadata": {
        "id": "9lViczbRUvkf"
      },
      "execution_count": null,
      "outputs": []
    },
    {
      "cell_type": "code",
      "source": [
        "# output_df.to_csv(\"output.csv\", index=False)"
      ],
      "metadata": {
        "id": "umUD0uXLUze1"
      },
      "execution_count": null,
      "outputs": []
    },
    {
      "cell_type": "code",
      "source": [
        "# rouge_scores = []\n",
        "# for index, row in output_df.iterrows():\n",
        "#     rouge_scores.append(Rouge().get_scores(row[\"Model Summary\"], row[\"Summary\"]))\n",
        "\n",
        "#     rouge_2_scores = [score[0][\"rouge-2\"][\"f\"] for score in rouge_scores]\n",
        "#     rouge_2_avg = sum(rouge_2_scores) / len(rouge_2_scores)\n",
        "\n",
        "# print(\"ROUGE-2 F1 score: {:.2f}%\".format(rouge_2_avg * 100))"
      ],
      "metadata": {
        "id": "qDLWxb2aU3cs"
      },
      "execution_count": null,
      "outputs": []
    },
    {
      "cell_type": "markdown",
      "source": [
        "##transformer\n"
      ],
      "metadata": {
        "id": "tw8gDdjjZlmz"
      }
    },
    {
      "cell_type": "code",
      "source": [
        "!pip install transformers\n"
      ],
      "metadata": {
        "colab": {
          "base_uri": "https://localhost:8080/"
        },
        "id": "d34n3Q5acZcY",
        "outputId": "afee91c4-83a3-4ff5-fcd5-e022421999a1"
      },
      "execution_count": null,
      "outputs": [
        {
          "output_type": "stream",
          "name": "stdout",
          "text": [
            "Looking in indexes: https://pypi.org/simple, https://us-python.pkg.dev/colab-wheels/public/simple/\n",
            "Requirement already satisfied: transformers in /usr/local/lib/python3.9/dist-packages (4.27.4)\n",
            "Requirement already satisfied: tqdm>=4.27 in /usr/local/lib/python3.9/dist-packages (from transformers) (4.65.0)\n",
            "Requirement already satisfied: filelock in /usr/local/lib/python3.9/dist-packages (from transformers) (3.10.7)\n",
            "Requirement already satisfied: numpy>=1.17 in /usr/local/lib/python3.9/dist-packages (from transformers) (1.22.4)\n",
            "Requirement already satisfied: regex!=2019.12.17 in /usr/local/lib/python3.9/dist-packages (from transformers) (2022.10.31)\n",
            "Requirement already satisfied: tokenizers!=0.11.3,<0.14,>=0.11.1 in /usr/local/lib/python3.9/dist-packages (from transformers) (0.13.3)\n",
            "Requirement already satisfied: pyyaml>=5.1 in /usr/local/lib/python3.9/dist-packages (from transformers) (6.0)\n",
            "Requirement already satisfied: packaging>=20.0 in /usr/local/lib/python3.9/dist-packages (from transformers) (23.0)\n",
            "Requirement already satisfied: huggingface-hub<1.0,>=0.11.0 in /usr/local/lib/python3.9/dist-packages (from transformers) (0.13.4)\n",
            "Requirement already satisfied: requests in /usr/local/lib/python3.9/dist-packages (from transformers) (2.27.1)\n",
            "Requirement already satisfied: typing-extensions>=3.7.4.3 in /usr/local/lib/python3.9/dist-packages (from huggingface-hub<1.0,>=0.11.0->transformers) (4.5.0)\n",
            "Requirement already satisfied: urllib3<1.27,>=1.21.1 in /usr/local/lib/python3.9/dist-packages (from requests->transformers) (1.26.15)\n",
            "Requirement already satisfied: idna<4,>=2.5 in /usr/local/lib/python3.9/dist-packages (from requests->transformers) (3.4)\n",
            "Requirement already satisfied: charset-normalizer~=2.0.0 in /usr/local/lib/python3.9/dist-packages (from requests->transformers) (2.0.12)\n",
            "Requirement already satisfied: certifi>=2017.4.17 in /usr/local/lib/python3.9/dist-packages (from requests->transformers) (2022.12.7)\n"
          ]
        }
      ]
    },
    {
      "cell_type": "code",
      "source": [
        "from transformers import BartTokenizer, BartForConditionalGeneration\n",
        "\n",
        "# Load the pre-trained model and tokenizer\n",
        "model_name = 'facebook/bart-large-cnn'\n",
        "tokenizer = BartTokenizer.from_pretrained(model_name)\n",
        "model = BartForConditionalGeneration.from_pretrained(model_name)\n",
        "\n",
        "# Define input text to summarize\n",
        "input_text = df['Text'][0]\n",
        "\n",
        "# Preprocess the input text\n",
        "inputs = tokenizer.encode(input_text, return_tensors='pt')\n",
        "\n",
        "# Generate summary output\n",
        "outputs = model.generate(inputs, max_length=1024, min_length=30, length_penalty=2.0, num_beams=4)\n",
        "summary = tokenizer.decode(outputs[0], skip_special_tokens=True)\n",
        "\n",
        "# Print the generated summary\n",
        "print(summary)\n"
      ],
      "metadata": {
        "colab": {
          "base_uri": "https://localhost:8080/"
        },
        "id": "m0Df0--waLgO",
        "outputId": "fb0a7927-4eb7-461b-f835-ce040125e694"
      },
      "execution_count": null,
      "outputs": [
        {
          "output_type": "stream",
          "name": "stdout",
          "text": [
            "Time Warner profits up 76% to $1.13bn for the three months to December. Firm is one of the biggest investors in Google and owns 8% of the search engine.\n"
          ]
        }
      ]
    },
    {
      "cell_type": "code",
      "source": [
        "len(summary)"
      ],
      "metadata": {
        "colab": {
          "base_uri": "https://localhost:8080/"
        },
        "id": "7aWNrZggb0va",
        "outputId": "6edb06b0-c5fb-4d4e-b5d6-3a87cfd59348"
      },
      "execution_count": null,
      "outputs": [
        {
          "output_type": "execute_result",
          "data": {
            "text/plain": [
              "152"
            ]
          },
          "metadata": {},
          "execution_count": 42
        }
      ]
    },
    {
      "cell_type": "code",
      "source": [
        "calculate_similarity(summary, df['Summary'][0])"
      ],
      "metadata": {
        "colab": {
          "base_uri": "https://localhost:8080/"
        },
        "id": "tyaUR6Lic_hU",
        "outputId": "9757c5a7-50b9-4d67-b7db-67e280e3cbac"
      },
      "execution_count": null,
      "outputs": [
        {
          "output_type": "execute_result",
          "data": {
            "text/plain": [
              "0.24210006235312612"
            ]
          },
          "metadata": {},
          "execution_count": 43
        }
      ]
    },
    {
      "cell_type": "code",
      "source": [],
      "metadata": {
        "id": "1fpdOXBCdHVF"
      },
      "execution_count": null,
      "outputs": []
    },
    {
      "cell_type": "markdown",
      "source": [
        "# graph\n"
      ],
      "metadata": {
        "id": "-O5rWJNxkhU_"
      }
    },
    {
      "cell_type": "code",
      "source": [
        "import pandas as pd\n",
        "import re\n",
        "import networkx as nx\n",
        "from collections import Counter\n",
        "from math import sqrt\n",
        "\n",
        "\n",
        "def calculate_similarity(sentence1, sentence2):\n",
        "    # Pre-processing: convert to lowercase, remove punctuation and stop words\n",
        "    sentence1 = re.sub(r'[^\\w\\s]', '', sentence1.lower())\n",
        "    sentence2 = re.sub(r'[^\\w\\s]', '', sentence2.lower())\n",
        "    stop_words = {'a', 'an', 'the', 'of', 'to', 'in', 'for', 'on', 'that', 'this', 'it', 'with', 'and', 'or', 'as', 'at', 'by'}\n",
        "    words1 = [word for word in sentence1.split() if word not in stop_words]\n",
        "    words2 = [word for word in sentence2.split() if word not in stop_words]\n",
        "\n",
        "    # Calculate the cosine similarity between the two sentences\n",
        "    word_count1 = Counter(words1)\n",
        "    word_count2 = Counter(words2)\n",
        "    common_words = set(words1).intersection(set(words2))\n",
        "    dot_product = sum([word_count1[word] * word_count2[word] for word in common_words])\n",
        "    magnitude1 = sqrt(sum([count ** 2 for count in word_count1.values()]))\n",
        "    magnitude2 = sqrt(sum([count ** 2 for count in word_count2.values()]))\n",
        "    similarity = dot_product / (magnitude1 * magnitude2) if magnitude1 > 0 and magnitude2 > 0 else 0.0\n",
        "\n",
        "    return similarity\n",
        "\n",
        "# define a function to create the hypergraph from a text\n",
        "def create_hypergraph(text):\n",
        "    # split the text into sentences\n",
        "    sentences = text.split(\". \")\n",
        "\n",
        "    # create a graph to represent the text\n",
        "    graph = nx.Graph()\n",
        "\n",
        "    # add nodes to the graph for each sentence in the text\n",
        "    for sentence in sentences:\n",
        "        graph.add_node(sentence)\n",
        "\n",
        "    # add hyperedges to the graph to connect related nodes\n",
        "    for sentence1 in sentences:\n",
        "        for sentence2 in sentences:\n",
        "            # calculate the similarity between the two sentences\n",
        "            similarity = calculate_similarity(sentence1, sentence2)\n",
        "\n",
        "            # if the similarity is above a certain threshold, add a hyperedge between the two nodes\n",
        "            if similarity > 0.5:\n",
        "                graph.add_edge(sentence1, sentence2)\n",
        "\n",
        "    return graph\n",
        "\n",
        "# define a function to read the data from a CSV file and generate model summaries\n",
        "def generate_model_summaries(filename):\n",
        "    # read the data from the CSV file\n",
        "    data = pd.read_csv(filename)\n",
        "\n",
        "    # create an empty list to store the model summaries\n",
        "    model_summaries = []\n",
        "\n",
        "    # iterate over each row in the data\n",
        "    for index, row in data.iterrows():\n",
        "        # extract the text and human summary from the row\n",
        "        text = row['Text']\n",
        "        human_summary = row['Summary']\n",
        "\n",
        "        # create a hypergraph from the text\n",
        "        graph = create_hypergraph(text)\n",
        "\n",
        "        # generate a summary from the hypergraph\n",
        "        model_summary = generate_summary(graph)\n",
        "\n",
        "        # append the model summary to the list\n",
        "        model_summaries.append(model_summary)\n",
        "\n",
        "    # add the list of model summaries as a new column in the data\n",
        "    data['model_summary'] = model_summaries\n",
        "\n",
        "    # write the updated data to a new CSV file\n",
        "    data.to_csv('output.csv', index=False)\n"
      ],
      "metadata": {
        "id": "0Iu7GscWhb_p"
      },
      "execution_count": null,
      "outputs": []
    },
    {
      "cell_type": "code",
      "source": [
        "generate_model_summaries('Dataset.csv')"
      ],
      "metadata": {
        "id": "L5W6dmO5iBTO"
      },
      "execution_count": null,
      "outputs": []
    },
    {
      "cell_type": "markdown",
      "source": [
        "# rouge metric"
      ],
      "metadata": {
        "id": "ThwKfA55UeNz"
      }
    },
    {
      "cell_type": "code",
      "source": [
        "import csv\n",
        "from rouge import Rouge\n",
        "\n",
        "# Load the data from the output CSV file\n",
        "with open('output.csv', 'r') as csvfile:\n",
        "    reader = csv.DictReader(csvfile)\n",
        "    summaries = []\n",
        "    model_summaries = []\n",
        "    for row in reader:\n",
        "        summaries.append(row['Summary'])\n",
        "        model_summaries.append(row['model_summary'])\n",
        "\n",
        "# Calculate the ROUGE scores\n",
        "rouge = Rouge()\n",
        "scores = rouge.get_scores(summaries, model_summaries, avg=True)\n",
        "\n",
        "# Print the scores\n",
        "print(\"ROUGE-1: {:.2f}\".format(scores['rouge-1']['f']*100))\n",
        "print(\"ROUGE-2: {:.2f}\".format(scores['rouge-2']['f']*100))\n",
        "print(\"ROUGE-L: {:.2f}\".format(scores['rouge-l']['f']*100))\n",
        "\n",
        "print('ROUGE-1 Precision:', scores['rouge-1']['p'])\n",
        "print('ROUGE-1 Recall:', scores['rouge-1']['r'])\n",
        "print('ROUGE-1 F1 Score:', scores['rouge-1']['f'])\n",
        "print('ROUGE-2 Precision:', scores['rouge-2']['p'])\n",
        "print('ROUGE-2 Recall:', scores['rouge-2']['r'])\n",
        "print('ROUGE-2 F1 Score:', scores['rouge-2']['f'])\n",
        "print('ROUGE-L Precision:', scores['rouge-l']['p'])\n",
        "print('ROUGE-L Recall:', scores['rouge-l']['r'])\n",
        "print('ROUGE-L F1 Score:', scores['rouge-l']['f'])\n"
      ],
      "metadata": {
        "colab": {
          "base_uri": "https://localhost:8080/"
        },
        "id": "aXnL5gzEiJiS",
        "outputId": "06ab275c-145a-4938-ce93-dc450a0ef650"
      },
      "execution_count": null,
      "outputs": [
        {
          "output_type": "stream",
          "name": "stdout",
          "text": [
            "ROUGE-1: 53.29\n",
            "ROUGE-2: 41.17\n",
            "ROUGE-L: 52.28\n",
            "ROUGE-1 Precision: 0.4736573958273568\n",
            "ROUGE-1 Recall: 0.6625698746950424\n",
            "ROUGE-1 F1 Score: 0.5329401070857893\n",
            "ROUGE-2 Precision: 0.36139382037173146\n",
            "ROUGE-2 Recall: 0.5381073099109446\n",
            "ROUGE-2 F1 Score: 0.41167324512414943\n",
            "ROUGE-L Precision: 0.4648487289325803\n",
            "ROUGE-L Recall: 0.6495815081683715\n",
            "ROUGE-L F1 Score: 0.5227836400964512\n"
          ]
        }
      ]
    },
    {
      "cell_type": "code",
      "source": [
        "# ROUGE-1 measures the overlap between unigrams (single words) in the generated summary and the reference summaries.\n",
        "# ROUGE-2 measures the overlap between bigrams (pairs of adjacent words) in the generated summary and the reference summaries.\n",
        "# ROUGE-L measures the longest common subsequence between the generated summary and the reference summaries, which captures the\n",
        "# amount of information that is common to both."
      ],
      "metadata": {
        "id": "p08NK9hkkLf2"
      },
      "execution_count": null,
      "outputs": []
    },
    {
      "cell_type": "code",
      "source": [],
      "metadata": {
        "id": "XIAG1nLwu54W"
      },
      "execution_count": null,
      "outputs": []
    }
  ]
}